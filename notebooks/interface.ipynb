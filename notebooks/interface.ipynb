{
 "cells": [
  {
   "cell_type": "code",
   "execution_count": null,
   "metadata": {},
   "outputs": [],
   "source": [
    "# Today...\n",
    "# $ timesheet add --start 08:00 --end 12:00\n",
    "# $ timesheet add --start 13:00 --end 16:30\n",
    "\n",
    "# Tuesday...\n",
    "# $ timesheet add --day Tuesday --start 08:00 --end 11:00\n",
    "# $ timesheet add --day Tuesday --start 12:00 --end 14:00\n",
    "# $ timesheet add --day Tuesday --start 15:00 --end 18:00\n",
    "\n",
    "# Output would be:\n",
    "#     Added x hours y minutes of work to today (19th January)\n",
    "\n",
    "# OPTIONS\n",
    "# --day refers to day of current week, if no day specified then assume for today\n",
    "# --date refers to a date like \"2022-01-05\"\n",
    "# can specify day or date or none, not both... and if no date/day specified, then it is for today!\n",
    "# --start time\n",
    "# --end time"
   ]
  },
  {
   "cell_type": "code",
   "execution_count": null,
   "metadata": {},
   "outputs": [],
   "source": [
    "# $ timesheet report [OPTIONS]\n",
    "\n",
    "# Output:\n",
    "#     Monday x hours y minutes (Flex is +/- x hours y minutes)\n",
    "\n",
    "# OPTIONS:\n",
    "# --date if not specified, assume report is for current week otherwise list report for the week of the given date\n",
    "#        i.e. reports always start on monday"
   ]
  },
  {
   "cell_type": "code",
   "execution_count": null,
   "metadata": {},
   "outputs": [],
   "source": [
    "# How much flex do I have?\n",
    "# $ timesheet flex\n",
    "\n",
    "# Output:\n",
    "# +/- x hours, y minutes"
   ]
  },
  {
   "cell_type": "code",
   "execution_count": null,
   "metadata": {},
   "outputs": [],
   "source": [
    "# $ timesheet config"
   ]
  },
  {
   "cell_type": "code",
   "execution_count": null,
   "metadata": {},
   "outputs": [],
   "source": [
    "# $ timesheet holiday 2022-12-25\n",
    "\n",
    "# Adds entire day for this holdiay to log\n",
    "# i.e. start=09:00 finish=17:21 (i.e. whatever is considered a normal working day)"
   ]
  },
  {
   "cell_type": "code",
   "execution_count": null,
   "metadata": {},
   "outputs": [],
   "source": [
    "# $ timesheet sick 2022-12-25\n",
    "\n",
    "# Adds entire day for this sick day to log\n",
    "# i.e. start=09:00 end=17:21 (i.e. whatever is considered a normal working day)"
   ]
  },
  {
   "cell_type": "code",
   "execution_count": null,
   "metadata": {},
   "outputs": [],
   "source": [
    "# $ timesheet edit --id = some-hash?"
   ]
  }
 ],
 "metadata": {
  "interpreter": {
   "hash": "ed1e15fdd5298679881c7135c44fdc1af2227e859fb34d0157880746f1bc6e88"
  },
  "kernelspec": {
   "display_name": "Python 3.9.9 64-bit ('venv': venv)",
   "language": "python",
   "name": "python3"
  },
  "language_info": {
   "codemirror_mode": {
    "name": "ipython",
    "version": 3
   },
   "file_extension": ".py",
   "mimetype": "text/x-python",
   "name": "python",
   "nbconvert_exporter": "python",
   "pygments_lexer": "ipython3",
   "version": "3.9.9"
  },
  "orig_nbformat": 4
 },
 "nbformat": 4,
 "nbformat_minor": 2
}
