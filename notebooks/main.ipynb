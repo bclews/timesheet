{
 "cells": [
  {
   "cell_type": "code",
   "execution_count": 1,
   "metadata": {},
   "outputs": [],
   "source": [
    "import json\n",
    "from datetime import datetime, timedelta"
   ]
  },
  {
   "cell_type": "code",
   "execution_count": 2,
   "metadata": {},
   "outputs": [],
   "source": [
    "with open('./records/2022-01-17.json') as timesheet_file:\n",
    "    timesheet = json.load(timesheet_file)"
   ]
  },
  {
   "cell_type": "code",
   "execution_count": 3,
   "metadata": {},
   "outputs": [],
   "source": [
    "# Need to validate dates in the file, making sure logged dates are after the Monday\n",
    "# if we have a record 2022-01-17 there should be no dates before then, such as 2022-01-15"
   ]
  },
  {
   "cell_type": "code",
   "execution_count": 4,
   "metadata": {},
   "outputs": [
    {
     "name": "stdout",
     "output_type": "stream",
     "text": [
      "[{'start': '2022-01-17T08:15', 'end': '2022-01-17T12:00'}, {'start': '2022-01-17T13:00', 'end': '2022-01-17T16:30'}, {'start': '2022-02-18T08:15', 'end': '2022-02-18T12:00'}, {'start': '2022-02-18T12:30', 'end': '2022-02-18T16:00'}, {'start': '2022-03-19T08:30', 'end': '2022-03-19T12:00'}, {'start': '2022-03-20T12:30', 'end': '2022-03-20T16:00'}, {'start': '2022-03-20T16:30', 'end': '2022-03-20T18:00'}, {'start': '2022-03-17T16:30', 'end': '2022-03-17T18:00'}]\n"
     ]
    }
   ],
   "source": [
    "# Add an entry to work...\n",
    "start = \"2022-03-17T16:30\"\n",
    "end = \"2022-03-17T18:00\"\n",
    "work_event = {\"start\": start, \"end\": end}\n",
    "\n",
    "timesheet[\"work\"].append(work_event)\n",
    "print(timesheet[\"work\"])"
   ]
  },
  {
   "cell_type": "code",
   "execution_count": 5,
   "metadata": {},
   "outputs": [],
   "source": [
    "# Completed.\n",
    "def convert_timedelta(duration):\n",
    "    days, seconds = duration.days, duration.seconds\n",
    "    hours = days * 24 + seconds // 3600\n",
    "    minutes = (seconds % 3600) // 60\n",
    "    seconds = (seconds % 60)\n",
    "    return hours, minutes, seconds"
   ]
  },
  {
   "cell_type": "code",
   "execution_count": 6,
   "metadata": {},
   "outputs": [],
   "source": [
    "# Completed.\n",
    "def sum_hours(logged_periods):\n",
    "    timedeltas = list()\n",
    "    for period in logged_periods:\n",
    "        start = datetime.fromisoformat(period[\"start\"])\n",
    "        end = datetime.fromisoformat(period[\"end\"])\n",
    "        timedeltas.append(end-start)\n",
    "    return timedeltas"
   ]
  },
  {
   "cell_type": "code",
   "execution_count": 7,
   "metadata": {},
   "outputs": [
    {
     "name": "stdout",
     "output_type": "stream",
     "text": [
      "Work is hours=24, minutes=30\n",
      "Flex is hours=3, minutes=30\n",
      "Holiday is hours=3, minutes=30\n",
      "Sick is hours=4, minutes=0\n",
      "Total is hours=35, minutes=30\n"
     ]
    }
   ],
   "source": [
    "work = sum(sum_hours(timesheet[\"work\"]), timedelta())\n",
    "hours, minutes, seconds = convert_timedelta(work)\n",
    "print(f\"Work is {hours=}, {minutes=}\")\n",
    "\n",
    "flex = sum(sum_hours(timesheet[\"flex\"]), timedelta())\n",
    "hours, minutes, seconds = convert_timedelta(flex)\n",
    "print(f\"Flex is {hours=}, {minutes=}\")\n",
    "\n",
    "holiday = sum(sum_hours(timesheet[\"holiday\"]), timedelta())\n",
    "hours, minutes, seconds = convert_timedelta(holiday)\n",
    "print(f\"Holiday is {hours=}, {minutes=}\")\n",
    "\n",
    "sick = sum(sum_hours(timesheet[\"sick\"]), timedelta())\n",
    "hours, minutes, seconds = convert_timedelta(sick)\n",
    "print(f\"Sick is {hours=}, {minutes=}\")\n",
    "\n",
    "total = work + flex + holiday + sick\n",
    "hours, minutes, seconds = convert_timedelta(total)\n",
    "print(f\"Total is {hours=}, {minutes=}\")"
   ]
  },
  {
   "cell_type": "code",
   "execution_count": 8,
   "metadata": {},
   "outputs": [
    {
     "name": "stdout",
     "output_type": "stream",
     "text": [
      "You have worked more than your required hours! Your flextime will increase by hours=1, minutes=15 to flex_hours=4, flex_minutes=28\n"
     ]
    }
   ],
   "source": [
    "zero = timedelta(hours=0)\n",
    "\n",
    "# Hours left in working week...\n",
    "weekly_hours = timesheet[\"standard_working_hours_per_week\"][\"hours\"]\n",
    "weekly_minutes = timesheet[\"standard_working_hours_per_week\"][\"minutes\"]\n",
    "standard_weekly_hours = timedelta(hours=weekly_hours, minutes=weekly_minutes)\n",
    "\n",
    "hours_left = abs(standard_weekly_hours - total)\n",
    "hours, minutes, seconds = convert_timedelta(hours_left)\n",
    "\n",
    "# can get rid of all this with timedelta\n",
    "if hours_left >= zero:\n",
    "    flextime = timedelta(hours=timesheet[\"flextime_balance\"][\"hours\"], minutes=timesheet[\"flextime_balance\"][\"minutes\"])\n",
    "    flextime_increase = flextime + abs(hours_left)\n",
    "    flex_hours, flex_minutes, flex_seconds = convert_timedelta(flextime_increase)\n",
    "    print(f\"You have worked more than your required hours! Your flextime will increase by {hours=}, {minutes=} to {flex_hours=}, {flex_minutes=}\")\n",
    "else:\n",
    "    print(f\"Hours left in working week {hours=}, {minutes=}\")"
   ]
  },
  {
   "cell_type": "code",
   "execution_count": 9,
   "metadata": {},
   "outputs": [
    {
     "name": "stdout",
     "output_type": "stream",
     "text": [
      "Your flex credit is currently hours=3, minutes=13.\n",
      "If you stop working now, this will increase to hours=4, minutes=28.\n",
      "If using up your flex credit then this will drop to hours=1, minutes=58.\n"
     ]
    }
   ],
   "source": [
    "flextime = timedelta(hours=timesheet[\"flextime_balance\"][\"hours\"], minutes=timesheet[\"flextime_balance\"][\"minutes\"])\n",
    "\n",
    "zero = timedelta(hours=0)\n",
    "\n",
    "# Can get rid of this if-else with proper use of timedelta\n",
    "if timesheet[\"flextime_balance\"][\"balance\"].lower() == \"credit\":    \n",
    "    hours, minutes, seconds = convert_timedelta(flextime)\n",
    "    print(f\"Your flex credit is currently {hours=}, {minutes=}.\")\n",
    "\n",
    "    # None of this makes sense... I think you need an if-statement to check if total is +/-\n",
    "    flextime_decrease = standard_weekly_hours - total + flextime\n",
    "    hours, minutes, seconds = convert_timedelta(flextime_decrease)    \n",
    "    print(f\"If you stop working now, this will increase to {hours=}, {minutes=}.\")\n",
    "    \n",
    "    flextime_decrease = flextime - (standard_weekly_hours - total)\n",
    "    hours, minutes, seconds = convert_timedelta(flextime_decrease) \n",
    "    print(f\"If using up your flex credit then this will drop to {hours=}, {minutes=}.\")\n",
    "elif timesheet[\"flextime_balance\"][\"balance\"].lower() == \"debit\":\n",
    "    hours, minutes, seconds = convert_timedelta(flextime)\n",
    "    print(f\"Your flex debit is currently {hours=}, {minutes=}.\")\n",
    "\n",
    "    flextime_increase = standard_weekly_hours - total + flextime\n",
    "    hours, minutes, seconds = convert_timedelta(flextime_increase)    \n",
    "    print(f\"If you stop working now, this will increase to {hours=}, {minutes=}.\")"
   ]
  },
  {
   "cell_type": "code",
   "execution_count": 10,
   "metadata": {},
   "outputs": [],
   "source": [
    "with open('./records/2022-01-17.json', 'w') as timesheet_file:\n",
    "    timesheet_json = json.dumps(timesheet, indent=4)\n",
    "    timesheet_file.write(timesheet_json)"
   ]
  }
 ],
 "metadata": {
  "interpreter": {
   "hash": "c23e50670c88010dddaff0dc03a3e717c538da3e0d43c9eee44583662709f25e"
  },
  "kernelspec": {
   "display_name": "Python 3.9.9 64-bit ('venv': venv)",
   "language": "python",
   "name": "python3"
  },
  "language_info": {
   "codemirror_mode": {
    "name": "ipython",
    "version": 3
   },
   "file_extension": ".py",
   "mimetype": "text/x-python",
   "name": "python",
   "nbconvert_exporter": "python",
   "pygments_lexer": "ipython3",
   "version": "3.9.9"
  },
  "orig_nbformat": 4
 },
 "nbformat": 4,
 "nbformat_minor": 2
}
