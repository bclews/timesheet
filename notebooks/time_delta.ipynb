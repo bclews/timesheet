{
 "cells": [
  {
   "cell_type": "code",
   "execution_count": 1,
   "metadata": {},
   "outputs": [],
   "source": [
    "from datetime import datetime, timedelta"
   ]
  },
  {
   "cell_type": "code",
   "execution_count": 2,
   "metadata": {},
   "outputs": [],
   "source": [
    "def convert_timedelta(duration):\n",
    "    days, seconds = duration.days, duration.seconds\n",
    "    hours = days * 24 + seconds // 3600\n",
    "    minutes = (seconds % 3600) // 60\n",
    "    seconds = (seconds % 60)\n",
    "    return hours, minutes, seconds"
   ]
  },
  {
   "cell_type": "code",
   "execution_count": 3,
   "metadata": {},
   "outputs": [],
   "source": [
    "logged_hours = [\n",
    "    {\"from\": \"2022-01-10T08:15\", \"to\": \"2022-01-10T12:00\"},\n",
    "    {\"from\": \"2022-01-10T13:00\", \"to\": \"2022-01-10T16:40\"},\n",
    "    {\"from\": \"2022-01-11T08:30\", \"to\": \"2022-01-11T12:00\"},\n",
    "    {\"from\": \"2022-01-11T13:00\", \"to\": \"2022-01-11T16:40\"},\n",
    "    {\"from\": \"2022-01-12T08:30\", \"to\": \"2022-01-12T12:00\"},\n",
    "    {\"from\": \"2022-01-12T13:00\", \"to\": \"2022-01-12T16:50\"},\n",
    "    {\"from\": \"2022-01-13T08:00\", \"to\": \"2022-01-13T12:00\"},\n",
    "    {\"from\": \"2022-01-13T13:00\", \"to\": \"2022-01-13T16:30\"},\n",
    "    {\"from\": \"2022-01-14T08:00\", \"to\": \"2022-01-14T12:00\"},\n",
    "    {\"from\": \"2022-01-14T13:00\", \"to\": \"2022-01-14T16:30\"}\n",
    "]"
   ]
  },
  {
   "cell_type": "code",
   "execution_count": 5,
   "metadata": {},
   "outputs": [
    {
     "name": "stdout",
     "output_type": "stream",
     "text": [
      "Time worked is hours=36, minutes=55\n"
     ]
    }
   ],
   "source": [
    "timedeltas = list()\n",
    "for item in logged_hours:\n",
    "    start = datetime.fromisoformat(item[\"from\"])\n",
    "    end = datetime.fromisoformat(item[\"to\"])\n",
    "    timedeltas.append(end-start)\n",
    "\n",
    "time_worked = sum(timedeltas, timedelta())\n",
    "hours, minutes, seconds = convert_timedelta(time_worked)\n",
    "print(f\"Time worked is {hours=}, {minutes=}\")"
   ]
  },
  {
   "cell_type": "code",
   "execution_count": 6,
   "metadata": {},
   "outputs": [
    {
     "name": "stdout",
     "output_type": "stream",
     "text": [
      "\n",
      "\n",
      "Standard hours per week:\n",
      "hours=36, minutes=45\n"
     ]
    }
   ],
   "source": [
    "print(\"\\n\\nStandard hours per week:\")\n",
    "normal_hours = list() \n",
    "for i in range(0, 5):\n",
    "    normal_hours.append( timedelta(hours=7, minutes=21) )\n",
    "\n",
    "total_normal_hours = sum(normal_hours, timedelta())\n",
    "hours, minutes, seconds = convert_timedelta(total_normal_hours)\n",
    "print(f\"{hours=}, {minutes=}\")"
   ]
  },
  {
   "cell_type": "code",
   "execution_count": 7,
   "metadata": {},
   "outputs": [
    {
     "name": "stdout",
     "output_type": "stream",
     "text": [
      "\n",
      "\n",
      "Standard hours confirmed per week:\n",
      "hours=36, minutes=45\n"
     ]
    }
   ],
   "source": [
    "#....\n",
    "print(\"\\n\\nStandard hours confirmed per week:\")\n",
    "confirmed_normal_hours = timedelta(hours=73, minutes=30) / 2\n",
    "hours, minutes, seconds = convert_timedelta(confirmed_normal_hours)\n",
    "print(f\"{hours=}, {minutes=}\")"
   ]
  }
 ],
 "metadata": {
  "interpreter": {
   "hash": "c23e50670c88010dddaff0dc03a3e717c538da3e0d43c9eee44583662709f25e"
  },
  "kernelspec": {
   "display_name": "Python 3.9.9 64-bit ('venv': venv)",
   "language": "python",
   "name": "python3"
  },
  "language_info": {
   "codemirror_mode": {
    "name": "ipython",
    "version": 3
   },
   "file_extension": ".py",
   "mimetype": "text/x-python",
   "name": "python",
   "nbconvert_exporter": "python",
   "pygments_lexer": "ipython3",
   "version": "3.9.9"
  },
  "orig_nbformat": 4
 },
 "nbformat": 4,
 "nbformat_minor": 2
}
