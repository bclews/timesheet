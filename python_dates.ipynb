{
 "cells": [
  {
   "cell_type": "code",
   "execution_count": 1,
   "metadata": {},
   "outputs": [
    {
     "name": "stdout",
     "output_type": "stream",
     "text": [
      "today.weekday()=2\n"
     ]
    }
   ],
   "source": [
    "# From https://docs.python.org/3/library/datetime.html#datetime.datetime.weekday\n",
    "#   datetime.weekday()  \n",
    "#     \"Return the day of the week as an integer, where Monday is 0 and Sunday is 6.\"\n",
    "from datetime import date\n",
    "today = date.today()\n",
    "print(f\"{today.weekday()=}\")"
   ]
  },
  {
   "cell_type": "code",
   "execution_count": 2,
   "metadata": {},
   "outputs": [
    {
     "name": "stdout",
     "output_type": "stream",
     "text": [
      "Wednesday\n"
     ]
    }
   ],
   "source": [
    "# https://docs.python.org/3/library/calendar.html\n",
    "#   calendar.day_name\n",
    "#     An array that represents the days of the week in the current locale.\n",
    "import calendar\n",
    "today_name = calendar.day_name[today.weekday()]\n",
    "print(today_name)"
   ]
  },
  {
   "cell_type": "code",
   "execution_count": 3,
   "metadata": {},
   "outputs": [
    {
     "name": "stdout",
     "output_type": "stream",
     "text": [
      "  Last Monday: 2022-01-17\n",
      "        Today: 2022-01-19\n",
      "Coming Monday: 2022-01-24\n"
     ]
    }
   ],
   "source": [
    "from datetime import timedelta\n",
    "\n",
    "today = date.today()\n",
    "last_monday = today - timedelta(days=today.weekday())\n",
    "coming_monday = today + timedelta(days=-today.weekday(), weeks=1)\n",
    "\n",
    "print(f\"  Last Monday: {last_monday.strftime('%Y-%m-%d')}\")\n",
    "print(f\"        Today: {today.strftime('%Y-%m-%d')}\")\n",
    "print(f\"Coming Monday: {coming_monday.strftime('%Y-%m-%d')}\")"
   ]
  },
  {
   "cell_type": "code",
   "execution_count": 4,
   "metadata": {},
   "outputs": [
    {
     "name": "stdout",
     "output_type": "stream",
     "text": [
      "Last Monday: 2022-01-24\n",
      "Last Monday: 2022-01-24\n",
      "Filename will be 2022-01-24.json\n"
     ]
    }
   ],
   "source": [
    "def find_date_of_previous_monday(the_date):\n",
    "    return the_date - timedelta(days=the_date.weekday())\n",
    "\n",
    "# A date after a Monday\n",
    "the_date = date(year=2022, month=1, day=26)\n",
    "last_monday = find_date_of_previous_monday(the_date)\n",
    "print(f\"Last Monday: {last_monday.strftime('%Y-%m-%d')}\")\n",
    "\n",
    "# A date on a Monday\n",
    "the_date = date(year=2022, month=1, day=24)\n",
    "last_monday = find_date_of_previous_monday(the_date)\n",
    "print(f\"Last Monday: {last_monday.strftime('%Y-%m-%d')}\")\n",
    "\n",
    "print(f\"Filename will be {last_monday}.json\")"
   ]
  }
 ],
 "metadata": {
  "interpreter": {
   "hash": "ed1e15fdd5298679881c7135c44fdc1af2227e859fb34d0157880746f1bc6e88"
  },
  "kernelspec": {
   "display_name": "Python 3.9.9 64-bit ('venv': venv)",
   "language": "python",
   "name": "python3"
  },
  "language_info": {
   "codemirror_mode": {
    "name": "ipython",
    "version": 3
   },
   "file_extension": ".py",
   "mimetype": "text/x-python",
   "name": "python",
   "nbconvert_exporter": "python",
   "pygments_lexer": "ipython3",
   "version": "3.9.9"
  },
  "orig_nbformat": 4
 },
 "nbformat": 4,
 "nbformat_minor": 2
}
