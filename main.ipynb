{
 "cells": [
  {
   "cell_type": "code",
   "execution_count": 16,
   "metadata": {},
   "outputs": [],
   "source": [
    "import json"
   ]
  },
  {
   "cell_type": "code",
   "execution_count": 17,
   "metadata": {},
   "outputs": [],
   "source": [
    "with open('./records/2022-01-17.json') as timesheet_file:\n",
    "    timesheet = json.load(timesheet_file)"
   ]
  },
  {
   "cell_type": "code",
   "execution_count": 18,
   "metadata": {},
   "outputs": [
    {
     "name": "stdout",
     "output_type": "stream",
     "text": [
      "[{'start': '2022-01-10T08:15', 'end': '2022-01-10T12:00'}]\n"
     ]
    }
   ],
   "source": [
    "# Add an entry to work...\n",
    "start = \"2022-01-10T08:15\"\n",
    "end = \"2022-01-10T12:00\"\n",
    "work_event = {\"start\": start, \"end\": end}\n",
    "\n",
    "timesheet[\"work\"].append(work_event)\n",
    "print(timesheet[\"work\"])"
   ]
  }
 ],
 "metadata": {
  "interpreter": {
   "hash": "c23e50670c88010dddaff0dc03a3e717c538da3e0d43c9eee44583662709f25e"
  },
  "kernelspec": {
   "display_name": "Python 3.9.9 64-bit ('venv': venv)",
   "language": "python",
   "name": "python3"
  },
  "language_info": {
   "codemirror_mode": {
    "name": "ipython",
    "version": 3
   },
   "file_extension": ".py",
   "mimetype": "text/x-python",
   "name": "python",
   "nbconvert_exporter": "python",
   "pygments_lexer": "ipython3",
   "version": "3.9.9"
  },
  "orig_nbformat": 4
 },
 "nbformat": 4,
 "nbformat_minor": 2
}
